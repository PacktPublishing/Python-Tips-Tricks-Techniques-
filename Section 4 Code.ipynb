{
 "cells": [
  {
   "attachments": {},
   "cell_type": "markdown",
   "metadata": {},
   "source": [
    "New ways of calling functions with arguments and kwargs "
   ]
  },
  {
   "cell_type": "code",
   "execution_count": 5,
   "metadata": {},
   "outputs": [
    {
     "data": {
      "text/plain": [
       "30"
      ]
     },
     "execution_count": 5,
     "metadata": {},
     "output_type": "execute_result"
    }
   ],
   "source": [
    "def typical_func(one, two, three):\n",
    "    '''\n",
    "    Args:\n",
    "    one, two, three str: strings\n",
    "    '''\n",
    "    return one + two + three\n",
    "\n",
    "typical_func('mary', 'had a', 'little lamb')\n",
    "\n",
    "start = 'mary'\n",
    "# bunch of code\n",
    "middle = ' had a '\n",
    "# bunch of code\n",
    "end = 'lamb'\n",
    "\n",
    "def kw_functions(a=1, b=2):\n",
    "    return a+b\n",
    "\n",
    "things_to_add = {\n",
    "    'a': 10,\n",
    "    'b': 20\n",
    "}\n",
    "\n",
    "kw_functions(a=1, b=30, c=50, d=103, e=13)"
   ]
  },
  {
   "attachments": {},
   "cell_type": "markdown",
   "metadata": {},
   "source": [
    "One line functions with lambdas"
   ]
  },
  {
   "cell_type": "code",
   "execution_count": 18,
   "metadata": {},
   "outputs": [
    {
     "data": {
      "text/plain": [
       "1102"
      ]
     },
     "execution_count": 18,
     "metadata": {},
     "output_type": "execute_result"
    }
   ],
   "source": [
    "def func_with_name(x, y):\n",
    "    return x + y\n",
    "\n",
    "x = [12, 318, 29, 122, 417, 204]\n",
    "\n",
    "import functools\n",
    "\n",
    "functools.reduce(lambda x, y: x + y, x)"
   ]
  },
  {
   "attachments": {},
   "cell_type": "markdown",
   "metadata": {},
   "source": [
    "Segment your code with functions within functions "
   ]
  },
  {
   "cell_type": "code",
   "execution_count": 20,
   "metadata": {},
   "outputs": [
    {
     "name": "stdout",
     "output_type": "stream",
     "text": [
      "There is a horse.\n"
     ]
    }
   ],
   "source": [
    "def normal_f():\n",
    "    \n",
    "    def get_animal():\n",
    "        return 'horse'\n",
    "    \n",
    "    return 'There is a {animal}.'.format(\n",
    "        animal=get_animal())\n",
    "\n",
    "print(normal_f())"
   ]
  },
  {
   "cell_type": "code",
   "execution_count": null,
   "metadata": {},
   "outputs": [],
   "source": [
    "def process_file(filename):\n",
    "    \n",
    "    def compute_new_data(some_data):\n",
    "        return some_data.replace('#', '<hashtag>')\n",
    "    \n",
    "    with open(filename, 'r') as f:\n",
    "        data = filename.read()\n",
    "        result = compute_new_data(data)\n",
    "        \n",
    "    return result"
   ]
  },
  {
   "attachments": {},
   "cell_type": "markdown",
   "metadata": {},
   "source": [
    "Create dynamic functions by returning functions"
   ]
  },
  {
   "cell_type": "code",
   "execution_count": 22,
   "metadata": {},
   "outputs": [
    {
     "data": {
      "text/plain": [
       "169"
      ]
     },
     "execution_count": 22,
     "metadata": {},
     "output_type": "execute_result"
    }
   ],
   "source": [
    "def custom_operator(x):\n",
    "    return (x - 2) ** 2\n",
    "\n",
    "def custom_operator_2(x):\n",
    "    return (x - 3) ** 2\n",
    "\n",
    "custom_operator_2(10)"
   ]
  },
  {
   "cell_type": "code",
   "execution_count": 24,
   "metadata": {},
   "outputs": [
    {
     "name": "stdout",
     "output_type": "stream",
     "text": [
      "64\n",
      "49\n"
     ]
    }
   ],
   "source": [
    "def custom_operator_maker(increment=2, power=2):\n",
    "    def return_this_func(x):\n",
    "        return (x - increment) ** power\n",
    "    return return_this_func\n",
    "\n",
    "f1 = custom_operator_maker(2, 2)\n",
    "f2 = custom_operator_maker(3, 2)\n",
    "\n",
    "print(f1(10))\n",
    "print(f2(10))"
   ]
  },
  {
   "attachments": {},
   "cell_type": "markdown",
   "metadata": {},
   "source": [
    "Power up your functions by wrapping them with decorators"
   ]
  },
  {
   "cell_type": "code",
   "execution_count": 26,
   "metadata": {},
   "outputs": [
    {
     "name": "stdout",
     "output_type": "stream",
     "text": [
      "before\n",
      "This is some_function()\n",
      "after\n"
     ]
    }
   ],
   "source": [
    "def some_decorator(f):\n",
    "    \n",
    "    def function_wrapper():\n",
    "        print('before')\n",
    "        f()\n",
    "        print('after')\n",
    "        \n",
    "    return function_wrapper\n",
    "\n",
    "def some_function():\n",
    "    print('This is some_function()')\n",
    "    \n",
    "wrapped_function = some_decorator(some_function)\n",
    "wrapped_function()"
   ]
  },
  {
   "cell_type": "code",
   "execution_count": 29,
   "metadata": {},
   "outputs": [
    {
     "name": "stdout",
     "output_type": "stream",
     "text": [
      "before\n",
      "This is some other function()\n",
      "after\n"
     ]
    }
   ],
   "source": [
    "@some_decorator\n",
    "def some_other_function():\n",
    "    print('This is some other function()')\n",
    "    \n",
    "some_other_function()"
   ]
  }
 ],
 "metadata": {
  "kernelspec": {
   "display_name": "Python 3",
   "language": "python",
   "name": "python3"
  },
  "language_info": {
   "codemirror_mode": {
    "name": "ipython",
    "version": 3
   },
   "file_extension": ".py",
   "mimetype": "text/x-python",
   "name": "python",
   "nbconvert_exporter": "python",
   "pygments_lexer": "ipython3",
   "version": "3.6.2"
  }
 },
 "nbformat": 4,
 "nbformat_minor": 2
}
